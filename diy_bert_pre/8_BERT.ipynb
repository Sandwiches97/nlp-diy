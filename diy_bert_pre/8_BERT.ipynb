{
 "cells": [
  {
   "cell_type": "markdown",
   "id": "1c5042fe",
   "metadata": {},
   "source": [
    "# 8.Bidirectional Encoder Representations from Transform (BERT)\n",
    "\n",
    "- word2vec和GloVe等词嵌入模型与**上下文无关**。它们将相同的预训练向量赋给同一个词，而不考虑词的上下文（如果有的话）。它们很难处理好自然语言中的一词多义或复杂语义。\n",
    "- 对于**上下文敏感**的词表示，如ELMo和GPT，词的表示依赖于它们的上下文。但是二者都有缺点：\n",
    "  - ELMo对上下文进行双向编码，但使用特定于任务的架构（然而，为每个自然语言处理任务设计一个特定的体系架构实际上并不容易）；\n",
    "  - 而GPT是任务无关的，但是从左到右编码上下文。\n",
    "- BERT结合了这两个方面的优点：它对上下文进行双向编码，并且需要对大量自然语言处理任务进行最小的架构更改。\n",
    "- BERT输入序列的嵌入是**词元嵌入**、**片段嵌入**和**位置嵌入**的和。\n",
    "- 预训练包括两个任务：\n",
    "  - **masked language modeling (MLM)**，编码双向上下文来表示单词\n",
    "  - **next sentence prediction (NSP)**，显式地建模文本对之间的逻辑关系。\n",
    "\n",
    "We have introduced several word embedding models for natural language understanding. After pretraining, the output can be thought of as a matrix where each row is a vector that represents a word of a predefined vocabulary. In fact, these word embedding models are all  **context-independent** . Let us begin by illustrating this property.\n",
    "\n",
    "## 8.1. From Context-Independent to Context-Sensitive\n",
    "\n",
    "we know the `word2vec` and `GloVe` method both assign the same pretrained vector to the same word **regardless of the context of the word.** （二者都没有考虑上下文）\n",
    "\n",
    "Formally, a context-independent representation of any token $x$ is a function $f(x)$ that **only takes $x$ as its input**. Given the abundance of polysemy and complex semantics in natural languages, context-independent representations have **obvious limitations**. For instance, the word “crane” in contexts “a crane is flying” and “a crane driver came” has completely different meanings; thus, **the same word may be assigned different representations depending on contexts.** （ 一个词可以根据上下文被赋予不同的含义）\n",
    "\n",
    "This motivates the development of **context-sensitive** word representations, where representations of words depend on their contexts. Hence, a context-sensitive representation of token x is **a function f(x,c(x)) depending on both x and its context c(x)**. Popular context-sensitive representations include **TagLM** (language-model-augmented sequence tagger) [[Peters et al., 2017b]](https://d2l.ai/chapter_references/zreferences.html#peters-ammar-bhagavatula-ea-2017), **CoVe** (Context Vectors) [[McCann et al., 2017]](https://d2l.ai/chapter_references/zreferences.html#mccann-bradbury-xiong-ea-2017), and **ELMo** (Embeddings from Language Models) [[Peters et al., 2018]](https://d2l.ai/chapter_references/zreferences.html#peters-neumann-iyyer-ea-2018).\n",
    "\n",
    "**For example**, by taking the entire sequence as the input, **ELMo** is a function that assigns a representation to each word from the input sequence. **Specifically**, ELMo combines all the intermediate layer representations from pretrained bidirectional LSTM as the output representation. **Then** the ELMo representation will be added to a downstream task’s (下游任务是CV、NLP等，用于评估通过自监督学习学习到的特征的质量，例如CV中的目标检测、语义分割等等) existing supervised model as additional features, such as by concatenating ELMo representation and the original representation (e.g., GloVe) of tokens in the existing model. **On one hand**, all the weights in the pretrained bidirectional LSTM model **are frozen after** ELMo representations are added. **On the other hand**, the existing supervised model is specifically customized for a given task. Leveraging different best models for different tasks at that time, adding ELMo improved the state of the art across six natural language processing tasks: sentiment analysis, natural language inference, semantic role labeling, coreference resolution, named entity recognition, and question answering.\n"
   ]
  },
  {
   "cell_type": "markdown",
   "id": "45f34a73",
   "metadata": {},
   "source": [
    "## 8.2. From Task-Specific (特定任务) to Task-Agnostic (任务不可知)\n",
    "\n",
    "Although **ELMo** has significantly improved solutions to a diverse set of natural language processing tasks, each solution still hinges on a **task-specific** architecture.  **However** , it is practically non-trivial to craft a specific architecture for every natural language processing task.\n",
    "\n",
    "The **GPT (Generative Pre-Training) model** represents an effort in designing a general **task-agnostic** model for context-sensitive representations [[Radford et al., 2018]](https://d2l.ai/chapter_references/zreferences.html#radford-narasimhan-salimans-ea-2018). Built on a transformer decoder, GPT pretrains a language model that will be used to represent text sequences. When applying GPT to a downstream task, the output of the language model **will be fed into an added linear output layer** to predict the label of the task.\n",
    "\n",
    "In sharp contrast to **ELMo** that freezes parameters of the pretrained model (与ELMo 冻结参数相比), **GPT fine-tunes all the parameters** in the pretrained transformer decoder during supervised learning of the downstream task. **GPT** was evaluated on twelve tasks of natural language inference, question answering, sentence similarity, and classification, and improved the state of the art in nine of them with minimal changes to the model architecture.\n",
    "\n",
    "**However** , due to the **autoregressive nature** of language models,  **GPT only looks forward (left-to-right)** . \n",
    "\n",
    "- GPT虽然做到了Task-Agnostic，但是他是Context-Independent，即面对下面情况时：\n",
    "  - “i went to the **bank** to deposit cash”，这个bank：**银行**\n",
    "  - “i went to the **bank** to sit down”，这个bank：**河岸**\n",
    "  - GPT will return the **same representation** for “bank”, though it has different meanings."
   ]
  },
  {
   "cell_type": "markdown",
   "id": "e8efc0bd",
   "metadata": {},
   "source": [
    "## 8.3. BERT: Combining the Best of Both Worlds (两全其美的方案)\n",
    "\n",
    "As we have seen,\n",
    "\n",
    "- **ELMo** encodes context bidirectionally **but** uses task-specific architectures;\n",
    "- while **GPT** is task-agnostic **but** encodes context left-to-right.\n",
    "- Combining the best of both worlds, **BERT (Bidirectional Encoder Representations from Transformers)** encodes context bidirectionally and requires minimal architecture changes for a wide range of NLP tasks [[Devlin et al., 2018]](https://d2l.ai/chapter_references/zreferences.html#devlin-chang-lee-ea-2018).\n",
    "\n",
    "Using `a pretrained transformer encoder`, **BERT** is able to represent any token based on its bidirectional context. During supervised learning of downstream tasks, BERT **is similar to** GPT in two aspects.\n",
    "\n",
    "- **First**, BERT representations will be fed into an added output layer, with **minimal changes to the model architecture** depending on nature of tasks, such as **predicting for every token** $\\textbf{vs.}$ **predicting for the entire sequence.**\n",
    "- **Second**, all the parameters of the pretrained transformer encoder are **fine-tuned**, while the additional output layer will be trained from scratch.  (从头开始训练)\n",
    "\n",
    "[Fig. 8.1]() depicts the differences among ELMo, GPT, and BERT.\n",
    "\n",
    "![](\"https://d2l.ai/_images/elmo-gpt-bert.svg\")\n",
    "<center>\n",
    "    <img style=\"border-radius: 0.3125em;\n",
    "    box-shadow: 0 2px 4px 0 rgba(34,36,38,.12),0 2px 10px 0 rgba(34,36,38,.08);\" \n",
    "    src=\"https://d2l.ai/_images/elmo-gpt-bert.svg\"/>\n",
    "    <br>\n",
    "    <div style=\"color:orange; border-bottom: 1px solid #d9d9d9;\n",
    "    display: inline-block;\n",
    "    color: #999;\n",
    "    padding: 2px;\">\n",
    "      Fig 8.1 A comparison of ELMo, GPT, and BERT.\n",
    "  \t</div>\n",
    "</center>\n",
    "\n",
    "\n",
    "\n",
    "**BERT** further improved the state of the art on eleven NLP tasks under broad categories of ：\n",
    "\n",
    "- (i) single text classification (单一文本分类，e.g., sentiment analysis),\n",
    "- (ii) text pair classification (文本对分类，e.g., natural language inference),\n",
    "- (iii) question answering, 问答系统\n",
    "- (iv) text tagging (文本标记，e.g., named entity recognition).\n",
    "\n",
    "All proposed in 2018, from context-sensitive ELMo to task-agnostic GPT and BERT, conceptually simple yet empirically powerful pretraining of deep representations for natural languages have revolutionized solutions to various NLP tasks.\n",
    "\n",
    "In the rest of this chapter, we will dive into the **pretraining of BERT**. When natural language processing applications are explained in [Section 15](https://d2l.ai/chapter_natural-language-processing-applications/index.html#chap-nlp-app), we will illustrate fine-tuning of BERT for downstream applications."
   ]
  },
  {
   "cell_type": "code",
   "execution_count": 7,
   "id": "d1dea109",
   "metadata": {},
   "outputs": [],
   "source": [
    "import torch\n",
    "from torch import nn\n",
    "from d2l_en.pytorch.d2l import torch as d2l"
   ]
  },
  {
   "cell_type": "markdown",
   "id": "29d8d3cd",
   "metadata": {},
   "source": [
    "## 8.4. Input Representation\n",
    "\n",
    "In NLP, some tasks (e.g., sentiment analysis) take **single text** as the input, while in some other tasks (e.g., natural language inference), the input is a **pair of text sequences**. (输入的形式多样)\n",
    "\n",
    "The **BERT** input sequence unambiguously (无歧义地) represents **both** `single text` **and** `text pairs`.\n",
    "\n",
    "- **In the single text** ： the BERT input sequence is the concatenation of the special classification token ``<cls> ``, tokens of a text sequence, and the special separation token ``<sep>``. （`[\"<cls>\", \"i\", \"love\", \"u\", \"<sep>\"]`）\n",
    "- **In the text pairs** ： the BERT input sequence is the **concatenation** of ``<cls>``, tokens of the first text sequence, ``<sep>``, tokens of the second text sequence, and ``<sep>`` . （`[\"<cls>\", \"i\", \"love\", \"u\", \"<sep>\", \"but\", \"you\", \"hate\", \"me\", \"<sep>\"]`）\n",
    "\n",
    "We will consistently **distinguish** the terminology “BERT input sequence” **from** other types of “sequences”. For instance, one **BERT input sequence** may include **either** one *text sequence ***or** two  *text sequences* .\n",
    "\n",
    "To distinguish **text pairs**, the learned segment embeddings $e_A$ and $e_B$ are added to the token embeddings of the first sequence and the second sequence, respectively. For **single text** inputs, only $e_A$ is used.\n",
    "\n",
    "The following `get_tokens_and_segments`\n",
    "\n",
    "- **input**: **either** one sentence **or** two sentences,\n",
    "- **returns**:\n",
    "  - tokens of the BERT input sequence\n",
    "  - their corresponding segment IDs."
   ]
  },
  {
   "cell_type": "code",
   "execution_count": 2,
   "id": "82cfdfd1",
   "metadata": {},
   "outputs": [],
   "source": [
    "#@save\n",
    "def get_tokens_and_segments(tokens_a, tokens_b=None):\n",
    "    \"\"\" Get tokens of the BERT input sequence and their segment IDs.\n",
    "\n",
    "    :param tokens_a:\n",
    "    :param tokens_b:\n",
    "    :return:\n",
    "        - tokens of the BERT input sequence \n",
    "        - their corresponding segment IDs.\n",
    "    \"\"\"\n",
    "    tokens = [\"<cls>\"] + tokens_a + [\"<sep>\"]\n",
    "    # 0 and 1 are marking segment A and B, respectively\n",
    "    segments = [0] * (len(tokens_a) + 2)\n",
    "    if tokens_b is not None:\n",
    "        tokens += tokens_b + [\"<sep>\"]\n",
    "        segments += [1] * (len(tokens_b) + 1)\n",
    "    return tokens, segments"
   ]
  },
  {
   "cell_type": "markdown",
   "id": "806dcc97",
   "metadata": {},
   "source": [
    "BERT chooses the `transformer encoder` as its bidirectional architecture.\n",
    "\n",
    "- Common in the transformer encoder, **positional embeddings** are added at every position of the BERT input sequence.\n",
    "- **However**, different from the original transformer encoder, BERT uses **learnable positional embeddings**.\n",
    "\n",
    "To sum up, [Fig. 8.2]() shows that the embeddings of the `BERT input sequence` are the sum of the `token embeddings`, `segment embeddings`, and `positional embeddings`.\n",
    "<center>\n",
    "    <img style=\"border-radius: 0.3125em;\n",
    "    box-shadow: 0 2px 4px 0 rgba(34,36,38,.12),0 2px 10px 0 rgba(34,36,38,.08);\" \n",
    "    src=\"https://d2l.ai/_images/bert-input.svg\"/>\n",
    "    <br>\n",
    "    <div style=\"color:orange; border-bottom: 1px solid #d9d9d9;\n",
    "    display: inline-block;\n",
    "    color: #999;\n",
    "    padding: 2px;\">\n",
    "      Fig 8.2 The embeddings of the BERT input sequence are the sum of the token embeddings, segment embeddings, and positional embeddings.\n",
    "  \t</div>\n",
    "</center>\n",
    "\n",
    "The following `BERTEncoder` class **is similar to** the `TransformerEncoder` class as implemented in [Section 10.7](https://d2l.ai/chapter_attention-mechanisms/transformer.html#sec-transformer).\n",
    "\n",
    "**Different from** `TransformerEncoder `, `BERTEncoder` uses **segment embeddings** and **learnable positional embeddings**."
   ]
  },
  {
   "cell_type": "code",
   "execution_count": 3,
   "id": "18a101ce",
   "metadata": {},
   "outputs": [],
   "source": [
    "#@save\n",
    "class BERTEncoder(nn.Module):\n",
    "    \"\"\"BERT encoder.\"\"\"\n",
    "    def __init__(self, vocab_size, num_hiddens, norm_shape, ffn_num_input,\n",
    "                 ffn_num_hiddens, num_heads, num_layers, dropout,\n",
    "                 max_len=1000, key_size=768, query_size=768, value_size=768,\n",
    "                 **kwargs):\n",
    "        super(BERTEncoder, self).__init__(**kwargs)\n",
    "        self.token_embedding = nn.Embedding(vocab_size, num_hiddens)\n",
    "        self.segment_embedding = nn.Embedding(2, num_hiddens)\n",
    "        self.blks = nn.Sequential()\n",
    "        for i in range(num_layers):\n",
    "            self.blks.add_module(f\"{i}\", d2l.EncoderBlock(\n",
    "                key_size, query_size, value_size, num_hiddens, norm_shape,\n",
    "                ffn_num_input, ffn_num_hiddens, num_heads, dropout, True))\n",
    "        # In BERT, positional embeddings are learnable, thus we create a\n",
    "        # parameter of positional embeddings that are long enough\n",
    "        self.pos_embedding = nn.Parameter(torch.randn(1, max_len,\n",
    "                                                      num_hiddens))\n",
    "\n",
    "    def forward(self, tokens, segments, valid_lens):\n",
    "        # Shape of `X` remains unchanged in the following code snippet:\n",
    "        # (batch size, max sequence length, `num_hiddens`)\n",
    "        X = self.token_embedding(tokens) + self.segment_embedding(segments)\n",
    "        X = X + self.pos_embedding.data[:, :X.shape[1], :]\n",
    "        for blk in self.blks:\n",
    "            X = blk(X, valid_lens)\n",
    "        return X"
   ]
  },
  {
   "cell_type": "markdown",
   "id": "f3b5fb2b",
   "metadata": {},
   "source": [
    "举例子：\n",
    "\n",
    "Suppose that the vocabulary size is 10000. To demonstrate forward inference of `BERTEncoder`, let us create an instance of it and initialize its parameters."
   ]
  },
  {
   "cell_type": "code",
   "execution_count": 10,
   "id": "318d5c23",
   "metadata": {},
   "outputs": [],
   "source": [
    "vocab_size, num_hiddens, ffn_num_hiddens, num_heads = 10000, 768, 1024, 4\n",
    "norm_shape, ffn_num_input, num_layers, dropout = [768], 768, 2, 0.2\n",
    "encoder = BERTEncoder(vocab_size, num_hiddens, norm_shape, ffn_num_input,\n",
    "                      ffn_num_hiddens, num_heads, num_layers, dropout)"
   ]
  },
  {
   "cell_type": "markdown",
   "id": "3d3df6c2",
   "metadata": {},
   "source": [
    "We define `tokens` to be 2 BERT input sequences of length 8, where each token is an index of the vocabulary. The forward inference of `BERTEncoder` with the input `tokens` returns the encoded result where each token is represented by a vector whose length is predefined by the hyperparameter `num_hiddens`. This hyperparameter is usually referred to as the ***hidden size*** (number of hidden units) of the **transformer encoder**."
   ]
  },
  {
   "cell_type": "code",
   "execution_count": 11,
   "id": "ad4c4672",
   "metadata": {},
   "outputs": [
    {
     "data": {
      "text/plain": [
       "torch.Size([2, 8, 768])"
      ]
     },
     "execution_count": 11,
     "metadata": {},
     "output_type": "execute_result"
    }
   ],
   "source": [
    "tokens = torch.randint(0, vocab_size, (2, 8))\n",
    "segments = torch.tensor([[0, 0, 0, 0, 1, 1, 1, 1], [0, 0, 0, 1, 1, 1, 1, 1]])\n",
    "encoded_X = encoder(tokens, segments, None)\n",
    "encoded_X.shape"
   ]
  },
  {
   "cell_type": "markdown",
   "id": "174d5c36",
   "metadata": {},
   "source": [
    "## 8.5. Pretraining Tasks\n",
    "\n",
    ":label:`subsec_bert_pretraining_tasks`\n",
    "\n",
    "The **forward inference** of `BERTEncoder` **gives** the BERT representation of **each token of the input text** and the **inserted special tokens** `“<cls>”` and `“<seq>”`. Next, we will use these representations to compute the loss function for pretraining BERT.\n",
    "\n",
    "The pretraining is composed of the following two tasks:\n",
    "\n",
    "- masked language modeling\n",
    "- next sentence prediction.\n",
    "\n",
    "### 8.5.1. Masked Language Modeling (解决双向context的问题)[¶](https://d2l.ai/chapter_natural-language-processing-pretraining/bert.html#masked-language-modeling \"Permalink to this headline\")\n",
    "\n",
    "As illustrated in [Section 8.3](../rnn_diy/3_language_models_and_dataset.md), a **language model** predicts a token using the context on its **left**.\n",
    "\n",
    "**To encode context bidirectionally** for representing each token, **BERT** randomly masks tokens and uses tokens from the bidirectional context to predict the masked tokens in a self-supervised fashion.(随机遮掩 tokens, 并使用来自双向上下文的词元以自监督的方式**预测** masked tokens) This task is referred to as a  **masked language model** .\n",
    "\n",
    "具体而言：\n",
    "\n",
    "In this pretraining task, 15% of tokens will be selected at random as the masked tokens for prediction. To predict a masked token without cheating by using the label,\n",
    "\n",
    "- one straightforward approach is to always replace it with a **special `“mask”` token** in the BERT input sequence. **However**, the artificial special token `“<mask>”` will **never appear in fine-tuning**.\n",
    "- To avoid such a mismatch between pretraining and fine-tuning, if a token is masked for prediction (e.g., `\"great\"` is selected to be masked and predicted in `\"this movie is great\"`), in the input it will be replaced with:\n",
    "  - a special `“<mask>”` token for 80% of the time (e.g., `\"this movie is great\"` becomes `\"this movie is <mask>\"`);\n",
    "  - a random token for 10% of the time (e.g., `\"this movie is great\"` becomes `\"this movie is drink\"`);\n",
    "  - the unchanged label token for 10% of the time (e.g., `\"this movie is great\"` becomes `\"this movie is great\"`).\n",
    "\n",
    "Note that for 10% of 15% time a random token is inserted. This occasional noise encourages BERT to be less biased (不那么偏向) towards the **masked token** (especially when the label token remains unchanged) in its bidirectional context encoding.\n",
    "\n",
    "代码实现：\n",
    "\n",
    "We implement the following `MaskLM` class to predict masked tokens in the masked language model task of BERT pretraining. The prediction uses a one-hidden-layer MLP (`self.mlp`).\n",
    "\n",
    "In forward inference, it takes **two inputs**:\n",
    "\n",
    "- the encoded result of `BERTEncoder`\n",
    "- the token positions for prediction.\n",
    "\n",
    "The **output** is the prediction results at these positions. shape = `(batch size, 句子长度, vocab 长度)`"
   ]
  },
  {
   "cell_type": "code",
   "execution_count": 15,
   "id": "eae639e0",
   "metadata": {},
   "outputs": [],
   "source": [
    "#@save\n",
    "class MaskLM(nn.Module):\n",
    "    \"\"\"The masked language model task of BERT.\"\"\"\n",
    "    def __init__(self, vocab_size, num_hiddens, num_inputs=768, **kwargs):\n",
    "        super(MaskLM, self).__init__(**kwargs)\n",
    "        self.mlp = nn.Sequential(nn.Linear(num_inputs, num_hiddens),\n",
    "                                 nn.ReLU(),\n",
    "                                 nn.LayerNorm(num_hiddens),\n",
    "                                 nn.Linear(num_hiddens, vocab_size))\n",
    "\n",
    "    def forward(self, X, pred_positions):\n",
    "        \"\"\"\n",
    "\n",
    "        :param X:\n",
    "            the encoded result of BERTEncoder\n",
    "        :param pred_positions:\n",
    "            the token positions for prediction.\n",
    "        :return:\n",
    "            the prediction results at these positions. (batch size, 句子长度, vocab 长度)\n",
    "        \"\"\"\n",
    "        num_pred_positions = pred_positions.shape[1]\n",
    "        pred_positions = pred_positions.reshape(-1)\n",
    "        batch_size = X.shape[0]\n",
    "        batch_idx = torch.arange(0, batch_size)\n",
    "        # Suppose that `batch_size` = 2, `num_pred_positions` = 3, then\n",
    "        # `batch_idx` is `torch.tensor([0, 0, 0, 1, 1, 1])`\n",
    "        batch_idx = torch.repeat_interleave(batch_idx, num_pred_positions)\n",
    "        masked_X = X[batch_idx, pred_positions] # 被masked掉的 (batchsize * num_pred_positions) 个单词\n",
    "        masked_X = masked_X.reshape((batch_size, num_pred_positions, -1))\n",
    "        mlm_Y_hat = self.mlp(masked_X)\n",
    "        return mlm_Y_hat"
   ]
  },
  {
   "cell_type": "markdown",
   "id": "84c06b37",
   "metadata": {},
   "source": [
    "例子：\n",
    "\n",
    "To demonstrate the forward inference of `MaskLM`, we create its instance `mlm` and initialize it. Recall that `encoded_X` from the forward inference of `BERTEncoder` represents 2 BERT input sequences.\n",
    "\n",
    "We define `mlm_positions` as the 3 indices to predict in either BERT input sequence of `encoded_X`(定义为在TransformerEncoder输出的任一输入序列中预测的3个指示). The forward inference of `mlm`\n",
    "\n",
    "- returns prediction results `mlm_Y_hat` at all the masked positions `mlm_positions` of `encoded_X`.\n",
    "\n",
    "For each prediction, the size of the result is equal to the vocabulary size."
   ]
  },
  {
   "cell_type": "code",
   "execution_count": 16,
   "id": "55a5aa60",
   "metadata": {},
   "outputs": [
    {
     "data": {
      "text/plain": [
       "torch.Size([2, 3, 10000])"
      ]
     },
     "execution_count": 16,
     "metadata": {},
     "output_type": "execute_result"
    }
   ],
   "source": [
    "mlm = MaskLM(vocab_size, num_hiddens)\n",
    "mlm_positions = torch.tensor([[1, 5, 2], [6, 1, 5]])\n",
    "mlm_Y_hat = mlm(encoded_X, mlm_positions)\n",
    "mlm_Y_hat.shape"
   ]
  },
  {
   "cell_type": "markdown",
   "id": "f932c941",
   "metadata": {},
   "source": [
    "With the ground truth labels `mlm_Y` of the predicted tokens `mlm_Y_hat` under masks, we can calculate the **cross-entropy loss** of the masked language model task in BERT pretraining."
   ]
  },
  {
   "cell_type": "code",
   "execution_count": 19,
   "id": "b4752963",
   "metadata": {},
   "outputs": [
    {
     "data": {
      "text/plain": [
       "(tensor([ 9.0782,  9.5575,  8.4133,  8.9115, 10.0183, 10.5587],\n",
       "        grad_fn=<NllLossBackward>),\n",
       " torch.Size([6]))"
      ]
     },
     "execution_count": 19,
     "metadata": {},
     "output_type": "execute_result"
    }
   ],
   "source": [
    "mlm_Y = torch.tensor([[7, 8, 9], [10, 20, 30]])\n",
    "loss = nn.CrossEntropyLoss(reduction='none')\n",
    "mlm_l = loss(mlm_Y_hat.reshape((-1, vocab_size)), mlm_Y.reshape(-1))\n",
    "mlm_l, mlm_l.shape"
   ]
  },
  {
   "cell_type": "markdown",
   "id": "e1677718",
   "metadata": {},
   "source": [
    "### 8.5.2 Next Sentence Prediction (解决text pairs对直接的逻辑问题)\n",
    "\n",
    ":label:`subsec_nsp`\n",
    "\n",
    "**Although** masked language modeling is able to encode bidirectional context for representing words, it does not explicitly model the logical relationship between text pairs.\n",
    "\n",
    "To help understand the relationship between two text sequences, BERT considers **a binary classification task**,  **next sentence prediction** , in its pretraining.\n",
    "\n",
    "- When generating sentence pairs for pretraining, for half of the time they are indeed consecutive sentences with the label \"True\"; 一半的真\n",
    "- while for the other half of the time the second sentence is randomly sampled from the corpus with the label \"False\". 一半的假\n",
    "\n",
    "代码实现：\n",
    "\n",
    "The following `NextSentencePred` class uses a one-hidden-layer MLP to predict whether the second sentence is the next sentence of the first in the BERT input sequence. Due to self-attention in the transformer encoder, the BERT representation of the special token `“<cls>”` encodes both the two sentences from the input. Hence, the output layer (`self.output`) of the MLP classifier takes `X`as the input, where`X`is the output of the MLP hidden layer whose input is the encoded`“<cls>”` token.\n",
    "\n",
    "- input：`TransformerEncoder的输出X.reshape(batch size, 句子长度*词典)`\n",
    "- output: `(batch size, 2)`"
   ]
  },
  {
   "cell_type": "code",
   "execution_count": 21,
   "id": "63311081",
   "metadata": {},
   "outputs": [],
   "source": [
    "#@save\n",
    "class NextSentencePred(nn.Module):\n",
    "    \"\"\"The next sentence prediction task of BERT.\"\"\"\n",
    "    def __init__(self, num_inputs, **kwargs):\n",
    "        super(NextSentencePred, self).__init__(**kwargs)\n",
    "        self.output = nn.Linear(num_inputs, 2)\n",
    "\n",
    "    def forward(self, X):\n",
    "        # `X` shape: (batch size, `num_hiddens`)\n",
    "        return self.output(X)"
   ]
  },
  {
   "cell_type": "markdown",
   "id": "6b5e68e4",
   "metadata": {},
   "source": [
    "例子：\n",
    "\n",
    "We can see that the forward inference of an `NextSentencePred` instance returns binary predictions for each BERT input sequence."
   ]
  },
  {
   "cell_type": "code",
   "execution_count": 23,
   "id": "9fd2ec27",
   "metadata": {},
   "outputs": [
    {
     "data": {
      "text/plain": [
       "torch.Size([2, 2])"
      ]
     },
     "execution_count": 23,
     "metadata": {},
     "output_type": "execute_result"
    }
   ],
   "source": [
    "# PyTorch by default won't flatten the tensor as seen in mxnet where, if\n",
    "# flatten=True, all but the first axis of input data are collapsed together\n",
    "encoded_X = torch.flatten(encoded_X, start_dim=1)\n",
    "# input_shape for NSP: (batch size, `num_hiddens`)\n",
    "nsp = NextSentencePred(encoded_X.shape[-1])\n",
    "nsp_Y_hat = nsp(encoded_X)\n",
    "nsp_Y_hat.shape"
   ]
  },
  {
   "cell_type": "markdown",
   "id": "2323ceb5",
   "metadata": {},
   "source": [
    "The cross-entropy loss of the 2 binary classifications can also be computed."
   ]
  },
  {
   "cell_type": "code",
   "execution_count": 24,
   "id": "78a0c479",
   "metadata": {},
   "outputs": [
    {
     "data": {
      "text/plain": [
       "torch.Size([2])"
      ]
     },
     "execution_count": 24,
     "metadata": {},
     "output_type": "execute_result"
    }
   ],
   "source": [
    "nsp_y = torch.tensor([0, 1])\n",
    "nsp_l = loss(nsp_Y_hat, nsp_y)\n",
    "nsp_l.shape"
   ]
  },
  {
   "cell_type": "markdown",
   "id": "239efe08",
   "metadata": {},
   "source": [
    "## Putting All Things Together\n",
    "\n",
    "When pretraining BERT, the final loss function is **a linear combination of both** the loss functions for **masked language modeling** **and** **next sentence prediction**. ($Loss_{total} = w1\\cdot loss(\\text{masked language modeling}) + w2\\cdot loss(\\text{next sentence prediction})$)\n",
    "\n",
    "\n",
    "\n",
    "Now we can define the `BERTModel` class by instantiating the three classes `BERTEncoder`, `MaskLM`, and `NextSentencePred`. The forward inference returns the encoded BERT representations `encoded_X`, predictions of masked language modeling `mlm_Y_hat`, and next sentence predictions `nsp_Y_hat`."
   ]
  },
  {
   "cell_type": "code",
   "execution_count": 25,
   "id": "87fce1b9",
   "metadata": {},
   "outputs": [],
   "source": [
    "#@save\n",
    "class BERTModel(nn.Module):\n",
    "    \"\"\"The BERT model.\"\"\"\n",
    "    def __init__(self, vocab_size, num_hiddens, norm_shape, ffn_num_input,\n",
    "                 ffn_num_hiddens, num_heads, num_layers, dropout,\n",
    "                 max_len=1000, key_size=768, query_size=768, value_size=768,\n",
    "                 hid_in_features=768, mlm_in_features=768,\n",
    "                 nsp_in_features=768):\n",
    "        super(BERTModel, self).__init__()\n",
    "        self.encoder = BERTEncoder(vocab_size, num_hiddens, norm_shape,\n",
    "                    ffn_num_input, ffn_num_hiddens, num_heads, num_layers,\n",
    "                    dropout, max_len=max_len, key_size=key_size,\n",
    "                    query_size=query_size, value_size=value_size)\n",
    "        self.hidden = nn.Sequential(nn.Linear(hid_in_features, num_hiddens),\n",
    "                                    nn.Tanh())\n",
    "        self.mlm = MaskLM(vocab_size, num_hiddens, mlm_in_features)\n",
    "        self.nsp = NextSentencePred(nsp_in_features)\n",
    "\n",
    "    def forward(self, tokens, segments, valid_lens=None, pred_positions=None):\n",
    "        encoded_X = self.encoder(tokens, segments, valid_lens)\n",
    "        if pred_positions is not None:\n",
    "            mlm_Y_hat = self.mlm(encoded_X, pred_positions)\n",
    "        else:\n",
    "            mlm_Y_hat = None\n",
    "        # The hidden layer of the MLP classifier for next sentence prediction.\n",
    "        # 0 is the index of the '<cls>' token\n",
    "        nsp_Y_hat = self.nsp(self.hidden(encoded_X[:, 0, :]))\n",
    "        return encoded_X, mlm_Y_hat, nsp_Y_hat"
   ]
  },
  {
   "cell_type": "code",
   "execution_count": null,
   "id": "3b81a670",
   "metadata": {},
   "outputs": [],
   "source": []
  }
 ],
 "metadata": {
  "kernelspec": {
   "display_name": "Python [conda env:torch]",
   "language": "python",
   "name": "conda-env-torch-py"
  },
  "language_info": {
   "codemirror_mode": {
    "name": "ipython",
    "version": 3
   },
   "file_extension": ".py",
   "mimetype": "text/x-python",
   "name": "python",
   "nbconvert_exporter": "python",
   "pygments_lexer": "ipython3",
   "version": "3.8.13"
  }
 },
 "nbformat": 4,
 "nbformat_minor": 5
}
